{
 "cells": [
  {
   "cell_type": "code",
   "execution_count": 3,
   "metadata": {},
   "outputs": [],
   "source": [
    "from music21 import *\n",
    "import os"
   ]
  },
  {
   "cell_type": "code",
   "execution_count": 4,
   "metadata": {},
   "outputs": [],
   "source": [
    "\"\"\"\n",
    "Parse the Teslim and extract information relevant to inferring the makam.\n",
    "- input: path to the musicxml for a sarki\n",
    "- return: a dictionary of the following format:\n",
    "    {\n",
    "    \"start_note\": first note of the Teslim (music21 Note object),\n",
    "    \"end_note\": last note of the Teslim (music21 Note),\n",
    "    \"range\": (lowest note in the Teslim, highest note of the Teslim) (pair of music21 Notes),\n",
    "    \"accidentals\": list of notes with accidentals in the order that they appear in the Teslim (list of music21 Notes)\n",
    "    }\n",
    "\"\"\"\n",
    "folder_path = \"../With Key Signatures/\"\n",
    "\n",
    "def find_teslim(filename):\n",
    "    MI = musicxml.xmlToM21.MusicXMLImporter()\n",
    "    score = MI.scoreFromFile(folder_path+filename)\n",
    "    start_measure_num = None\n",
    "    end_measure_num = None\n",
    "\n",
    "    for element in score.recurse().getElementsByClass(expressions.TextExpression):\n",
    "        if element.content.lower() == 'teslim':\n",
    "            start_measure_num =  element.getContextByClass('Measure').number\n",
    "        if element.content.lower() == 'hane 2':\n",
    "            end_measure_num = element.getContextByClass('Measure').number - 1\n",
    "            break\n",
    "\n",
    "    teslim = stream.Score()\n",
    "\n",
    "    # Iterate through the measures in the original score and add them to the new score\n",
    "    for measure in score.measures(start_measure_num, end_measure_num):\n",
    "        teslim.insert(measure.offset, measure)\n",
    "\n",
    "    return teslim"
   ]
  },
  {
   "cell_type": "code",
   "execution_count": 11,
   "metadata": {},
   "outputs": [],
   "source": [
    "def extract_teslim_info(teslim):\n",
    "    first_measure = teslim.parts[0].getElementsByClass('Measure')[0]\n",
    "    start_note = first_measure.getElementsByClass('Note')[0]\n",
    "\n",
    "    last_measure = teslim.parts[0].getElementsByClass('Measure')[-1]\n",
    "    end_note = last_measure.getElementsByClass('Note')[-1]\n",
    "    \n",
    "    all_notes = teslim.parts[0].recurse().notes\n",
    "    lowest_note = min(all_notes, key=lambda x: x.pitch)\n",
    "    highest_note = max(all_notes, key=lambda x: x.pitch)\n",
    "    \n",
    "    accidentals = [note for note in all_notes if note.pitch.accidental is not None]\n",
    "    \n",
    "    result = {\n",
    "        \"start_note\": start_note,\n",
    "        \"end_note\": end_note,\n",
    "        \"range\": (lowest_note, highest_note),\n",
    "        \"accidentals\": accidentals\n",
    "    }\n",
    "    return result"
   ]
  },
  {
   "cell_type": "code",
   "execution_count": 12,
   "metadata": {},
   "outputs": [
    {
     "data": {
      "text/plain": [
       "{'start_note': <music21.note.Note G>,\n",
       " 'end_note': <music21.note.Note C>,\n",
       " 'range': (<music21.note.Note D>, <music21.note.Note E>),\n",
       " 'accidentals': [<music21.note.Note F#>,\n",
       "  <music21.note.Note F#>,\n",
       "  <music21.note.Note F#>,\n",
       "  <music21.note.Note F#>,\n",
       "  <music21.note.Note F#>,\n",
       "  <music21.note.Note F#>,\n",
       "  <music21.note.Note F#>,\n",
       "  <music21.note.Note F#>]}"
      ]
     },
     "execution_count": 12,
     "metadata": {},
     "output_type": "execute_result"
    }
   ],
   "source": [
    "# for testing purposes\n",
    "test = \"CT1.musicxml\"\n",
    "found = find_teslim(test)\n",
    "found.show()\n",
    "extract_teslim_info(found)"
   ]
  },
  {
   "cell_type": "code",
   "execution_count": 13,
   "metadata": {},
   "outputs": [
    {
     "name": "stdout",
     "output_type": "stream",
     "text": [
      "CT 100 Nevâ Semâ’î.musicxml\n",
      "{'start_note': <music21.note.Note F#>, 'end_note': <music21.note.Note A>, 'range': (<music21.note.Note A>, <music21.note.Note G>), 'accidentals': [<music21.note.Note F#>, <music21.note.Note F#>, <music21.note.Note F#>, <music21.note.Note F#>, <music21.note.Note F#>, <music21.note.Note F#>, <music21.note.Note F#>, <music21.note.Note F#>, <music21.note.Note F#>, <music21.note.Note F#>]}\n",
      "CT 101-103 ‘Irâk Peşrevi Kantemirzâde’nin [Devr‐i Kebir].musicxml\n",
      "{'start_note': <music21.note.Note F#>, 'end_note': <music21.note.Note E>, 'range': (<music21.note.Note D>, <music21.note.Note A>), 'accidentals': [<music21.note.Note F#>, <music21.note.Note F#>, <music21.note.Note C>, <music21.note.Note F#>, <music21.note.Note F#>, <music21.note.Note F#>, <music21.note.Note F#>, <music21.note.Note F#>, <music21.note.Note F#>, <music21.note.Note F#>]}\n",
      "CT 104 ‘Irâk Sâz Semâ’î Kantemiroğlu.musicxml\n",
      "{'start_note': <music21.note.Note D>, 'end_note': <music21.note.Note A>, 'range': (<music21.note.Note F#>, <music21.note.Note G>), 'accidentals': [<music21.note.Note F>, <music21.note.Note F#>]}\n",
      "CT 105 Hüseynî Peşrevi Kemençeci Nikolaki [Muhammes].musicxml\n",
      "{'start_note': <music21.note.Note D>, 'end_note': <music21.note.Note A>, 'range': (<music21.note.Note F#>, <music21.note.Note B->), 'accidentals': [<music21.note.Note F#>, <music21.note.Note F#>, <music21.note.Note F>, <music21.note.Note F>, <music21.note.Note F>, <music21.note.Note F>, <music21.note.Note B->, <music21.note.Note F>, <music21.note.Note C#>, <music21.note.Note F#>]}\n",
      "CT 106 Kemençeci Nikolaki Efendi’nin Hüseynî Sâz Semâ’îsi.musicxml\n",
      "{'start_note': <music21.note.Note D>, 'end_note': <music21.note.Note A>, 'range': (<music21.note.Note G>, <music21.note.Note G>), 'accidentals': [<music21.note.Note F>, <music21.note.Note F>, <music21.note.Note F>]}\n",
      "CT 107-108 Râşid Efendi’nin Hisâr Peşrevi [Düyek].musicxml\n",
      "{'start_note': <music21.note.Note E>, 'end_note': <music21.note.Note A>, 'range': (<music21.note.Note G>, <music21.note.Note A>), 'accidentals': [<music21.note.Note D#>, <music21.note.Note D#>, <music21.note.Note G#>, <music21.note.Note G#>, <music21.note.Note G#>, <music21.note.Note D>]}\n",
      "CT 109 Hisâr Sâz Semâ’îsi Baba Râşid Efendi.musicxml\n",
      "{'start_note': <music21.note.Note E>, 'end_note': <music21.note.Note A>, 'range': (<music21.note.Note G>, <music21.note.Note A>), 'accidentals': [<music21.note.Note D>, <music21.note.Note F>]}\n",
      "CT 11 Sultan Selîm Hân‐ı Sâlis Hazretleri’nin Sûzidilârâ Peşrevi [Düyek].musicxml\n"
     ]
    },
    {
     "name": "stderr",
     "output_type": "stream",
     "text": [
      "C:\\Users\\annab\\AppData\\Roaming\\Python\\Python311\\site-packages\\music21\\musicxml\\xmlToM21.py:1986: MusicXMLWarning: The following exception took place in m. 1 in part None.\n",
      "  warnings.warn(\n"
     ]
    },
    {
     "ename": "AccidentalException",
     "evalue": "slash-quarter-sharp is not a supported accidental type",
     "output_type": "error",
     "traceback": [
      "\u001b[1;31m---------------------------------------------------------------------------\u001b[0m",
      "\u001b[1;31mAccidentalException\u001b[0m                       Traceback (most recent call last)",
      "Cell \u001b[1;32mIn[13], line 5\u001b[0m\n\u001b[0;32m      3\u001b[0m \u001b[39mfor\u001b[39;00m musicfile \u001b[39min\u001b[39;00m os\u001b[39m.\u001b[39mlistdir(folder_path):\n\u001b[0;32m      4\u001b[0m     \u001b[39mprint\u001b[39m(musicfile)\n\u001b[1;32m----> 5\u001b[0m     teslim \u001b[39m=\u001b[39m find_teslim(musicfile)\n\u001b[0;32m      6\u001b[0m     \u001b[39mprint\u001b[39m(extract_teslim_info(teslim))\n",
      "Cell \u001b[1;32mIn[4], line 16\u001b[0m, in \u001b[0;36mfind_teslim\u001b[1;34m(filename)\u001b[0m\n\u001b[0;32m     14\u001b[0m \u001b[39mdef\u001b[39;00m \u001b[39mfind_teslim\u001b[39m(filename):\n\u001b[0;32m     15\u001b[0m     MI \u001b[39m=\u001b[39m musicxml\u001b[39m.\u001b[39mxmlToM21\u001b[39m.\u001b[39mMusicXMLImporter()\n\u001b[1;32m---> 16\u001b[0m     score \u001b[39m=\u001b[39m MI\u001b[39m.\u001b[39;49mscoreFromFile(folder_path\u001b[39m+\u001b[39;49mfilename)\n\u001b[0;32m     17\u001b[0m     start_measure_num \u001b[39m=\u001b[39m \u001b[39mNone\u001b[39;00m\n\u001b[0;32m     18\u001b[0m     end_measure_num \u001b[39m=\u001b[39m \u001b[39mNone\u001b[39;00m\n",
      "File \u001b[1;32m~\\AppData\\Roaming\\Python\\Python311\\site-packages\\music21\\musicxml\\xmlToM21.py:865\u001b[0m, in \u001b[0;36mMusicXMLImporter.scoreFromFile\u001b[1;34m(self, filename)\u001b[0m\n\u001b[0;32m    860\u001b[0m \u001b[39m\u001b[39m\u001b[39m'''\u001b[39;00m\n\u001b[0;32m    861\u001b[0m \u001b[39mmain program: opens a file given by filename and returns a complete\u001b[39;00m\n\u001b[0;32m    862\u001b[0m \u001b[39mmusic21 Score from it.\u001b[39;00m\n\u001b[0;32m    863\u001b[0m \u001b[39m'''\u001b[39;00m\n\u001b[0;32m    864\u001b[0m \u001b[39m# load filename into text\u001b[39;00m\n\u001b[1;32m--> 865\u001b[0m \u001b[39mself\u001b[39;49m\u001b[39m.\u001b[39;49mreadFile(filename)\n\u001b[0;32m    866\u001b[0m \u001b[39m# self.parseXMLText()\u001b[39;00m\n\u001b[0;32m    867\u001b[0m \u001b[39mreturn\u001b[39;00m \u001b[39mself\u001b[39m\u001b[39m.\u001b[39mstream\n",
      "File \u001b[1;32m~\\AppData\\Roaming\\Python\\Python311\\site-packages\\music21\\musicxml\\xmlToM21.py:875\u001b[0m, in \u001b[0;36mMusicXMLImporter.readFile\u001b[1;34m(self, filename)\u001b[0m\n\u001b[0;32m    872\u001b[0m \u001b[39mif\u001b[39;00m \u001b[39mself\u001b[39m\u001b[39m.\u001b[39mxmlRoot\u001b[39m.\u001b[39mtag \u001b[39m!=\u001b[39m \u001b[39m'\u001b[39m\u001b[39mscore-partwise\u001b[39m\u001b[39m'\u001b[39m:\n\u001b[0;32m    873\u001b[0m     \u001b[39mraise\u001b[39;00m MusicXMLImportException(\u001b[39m'\u001b[39m\u001b[39mCannot parse MusicXML files not in score-partwise. \u001b[39m\u001b[39m'\u001b[39m\n\u001b[0;32m    874\u001b[0m                                   \u001b[39m+\u001b[39m \u001b[39mf\u001b[39m\u001b[39m\"\u001b[39m\u001b[39mRoot tag was \u001b[39m\u001b[39m'\u001b[39m\u001b[39m{\u001b[39;00m\u001b[39mself\u001b[39m\u001b[39m.\u001b[39mxmlRoot\u001b[39m.\u001b[39mtag\u001b[39m}\u001b[39;00m\u001b[39m'\u001b[39m\u001b[39m\"\u001b[39m)\n\u001b[1;32m--> 875\u001b[0m \u001b[39mself\u001b[39;49m\u001b[39m.\u001b[39;49mxmlRootToScore(\u001b[39mself\u001b[39;49m\u001b[39m.\u001b[39;49mxmlRoot, \u001b[39mself\u001b[39;49m\u001b[39m.\u001b[39;49mstream)\n",
      "File \u001b[1;32m~\\AppData\\Roaming\\Python\\Python311\\site-packages\\music21\\musicxml\\xmlToM21.py:932\u001b[0m, in \u001b[0;36mMusicXMLImporter.xmlRootToScore\u001b[1;34m(self, mxScore, inputM21)\u001b[0m\n\u001b[0;32m    928\u001b[0m     environLocal\u001b[39m.\u001b[39mprintDebug(\u001b[39mf\u001b[39m\u001b[39m'\u001b[39m\u001b[39mCannot find info for part with name \u001b[39m\u001b[39m{\u001b[39;00mpartId\u001b[39m}\u001b[39;00m\u001b[39m'\u001b[39m\n\u001b[0;32m    929\u001b[0m                             \u001b[39m+\u001b[39m \u001b[39m'\u001b[39m\u001b[39m, skipping the part\u001b[39m\u001b[39m'\u001b[39m)\n\u001b[0;32m    930\u001b[0m     \u001b[39mcontinue\u001b[39;00m\n\u001b[1;32m--> 932\u001b[0m part \u001b[39m=\u001b[39m \u001b[39mself\u001b[39;49m\u001b[39m.\u001b[39;49mxmlPartToPart(p, mxScorePart)\n\u001b[0;32m    934\u001b[0m \u001b[39mif\u001b[39;00m part \u001b[39mis\u001b[39;00m \u001b[39mnot\u001b[39;00m \u001b[39mNone\u001b[39;00m:  \u001b[39m# for instance, in partStreams\u001b[39;00m\n\u001b[0;32m    935\u001b[0m     s\u001b[39m.\u001b[39mcoreInsert(\u001b[39m0.0\u001b[39m, part)\n",
      "File \u001b[1;32m~\\AppData\\Roaming\\Python\\Python311\\site-packages\\music21\\musicxml\\xmlToM21.py:969\u001b[0m, in \u001b[0;36mMusicXMLImporter.xmlPartToPart\u001b[1;34m(self, mxPart, mxScorePart)\u001b[0m\n\u001b[0;32m    965\u001b[0m \u001b[39m\u001b[39m\u001b[39m'''\u001b[39;00m\n\u001b[0;32m    966\u001b[0m \u001b[39mGiven a <part> object and the <score-part> object, parse a complete part.\u001b[39;00m\n\u001b[0;32m    967\u001b[0m \u001b[39m'''\u001b[39;00m\n\u001b[0;32m    968\u001b[0m parser \u001b[39m=\u001b[39m PartParser(mxPart, mxScorePart\u001b[39m=\u001b[39mmxScorePart, parent\u001b[39m=\u001b[39m\u001b[39mself\u001b[39m)\n\u001b[1;32m--> 969\u001b[0m parser\u001b[39m.\u001b[39;49mparse()\n\u001b[0;32m    970\u001b[0m \u001b[39mif\u001b[39;00m parser\u001b[39m.\u001b[39mappendToScoreAfterParse \u001b[39mis\u001b[39;00m \u001b[39mTrue\u001b[39;00m:\n\u001b[0;32m    971\u001b[0m     \u001b[39mreturn\u001b[39;00m parser\u001b[39m.\u001b[39mstream\n",
      "File \u001b[1;32m~\\AppData\\Roaming\\Python\\Python311\\site-packages\\music21\\musicxml\\xmlToM21.py:1582\u001b[0m, in \u001b[0;36mPartParser.parse\u001b[1;34m(self)\u001b[0m\n\u001b[0;32m   1578\u001b[0m \u001b[39m\u001b[39m\u001b[39m'''\u001b[39;00m\n\u001b[0;32m   1579\u001b[0m \u001b[39mRun the parser on a single part\u001b[39;00m\n\u001b[0;32m   1580\u001b[0m \u001b[39m'''\u001b[39;00m\n\u001b[0;32m   1581\u001b[0m \u001b[39mself\u001b[39m\u001b[39m.\u001b[39mparseXmlScorePart()\n\u001b[1;32m-> 1582\u001b[0m \u001b[39mself\u001b[39;49m\u001b[39m.\u001b[39;49mparseMeasures()\n\u001b[0;32m   1583\u001b[0m \u001b[39mself\u001b[39m\u001b[39m.\u001b[39mstream\u001b[39m.\u001b[39matSoundingPitch \u001b[39m=\u001b[39m \u001b[39mself\u001b[39m\u001b[39m.\u001b[39matSoundingPitch\n\u001b[0;32m   1585\u001b[0m \u001b[39m# TODO: this does not work with voices; there, Spanners\u001b[39;00m\n\u001b[0;32m   1586\u001b[0m \u001b[39m# will be copied into the Score\u001b[39;00m\n\u001b[0;32m   1587\u001b[0m \n\u001b[0;32m   1588\u001b[0m \u001b[39m# copy spanners that are complete into the part, as this is the\u001b[39;00m\n\u001b[0;32m   1589\u001b[0m \u001b[39m# highest level container that needs them\u001b[39;00m\n",
      "File \u001b[1;32m~\\AppData\\Roaming\\Python\\Python311\\site-packages\\music21\\musicxml\\xmlToM21.py:1795\u001b[0m, in \u001b[0;36mPartParser.parseMeasures\u001b[1;34m(self)\u001b[0m\n\u001b[0;32m   1793\u001b[0m part \u001b[39m=\u001b[39m \u001b[39mself\u001b[39m\u001b[39m.\u001b[39mstream\n\u001b[0;32m   1794\u001b[0m \u001b[39mfor\u001b[39;00m mxMeasure \u001b[39min\u001b[39;00m \u001b[39mself\u001b[39m\u001b[39m.\u001b[39mmxPart\u001b[39m.\u001b[39miterfind(\u001b[39m'\u001b[39m\u001b[39mmeasure\u001b[39m\u001b[39m'\u001b[39m):\n\u001b[1;32m-> 1795\u001b[0m     \u001b[39mself\u001b[39;49m\u001b[39m.\u001b[39;49mxmlMeasureToMeasure(mxMeasure)\n\u001b[0;32m   1797\u001b[0m \u001b[39mself\u001b[39m\u001b[39m.\u001b[39mremoveEndForwardRest()\n\u001b[0;32m   1798\u001b[0m part\u001b[39m.\u001b[39mcoreElementsChanged()\n",
      "File \u001b[1;32m~\\AppData\\Roaming\\Python\\Python311\\site-packages\\music21\\musicxml\\xmlToM21.py:1991\u001b[0m, in \u001b[0;36mPartParser.xmlMeasureToMeasure\u001b[1;34m(self, mxMeasure)\u001b[0m\n\u001b[0;32m   1985\u001b[0m \u001b[39mexcept\u001b[39;00m \u001b[39mException\u001b[39;00m \u001b[39mas\u001b[39;00m e:  \u001b[39m# pylint: disable=broad-except\u001b[39;00m\n\u001b[0;32m   1986\u001b[0m     warnings\u001b[39m.\u001b[39mwarn(\n\u001b[0;32m   1987\u001b[0m         \u001b[39mf\u001b[39m\u001b[39m'\u001b[39m\u001b[39mThe following exception took place in m. \u001b[39m\u001b[39m{\u001b[39;00mmeasureParser\u001b[39m.\u001b[39mmeasureNumber\u001b[39m}\u001b[39;00m\u001b[39m in \u001b[39m\u001b[39m'\u001b[39m\n\u001b[0;32m   1988\u001b[0m         \u001b[39m+\u001b[39m \u001b[39mf\u001b[39m\u001b[39m'\u001b[39m\u001b[39mpart \u001b[39m\u001b[39m{\u001b[39;00m\u001b[39mself\u001b[39m\u001b[39m.\u001b[39mstream\u001b[39m.\u001b[39mpartName\u001b[39m}\u001b[39;00m\u001b[39m.\u001b[39m\u001b[39m'\u001b[39m,\n\u001b[0;32m   1989\u001b[0m         MusicXMLWarning\n\u001b[0;32m   1990\u001b[0m     )\n\u001b[1;32m-> 1991\u001b[0m     \u001b[39mraise\u001b[39;00m e\n\u001b[0;32m   1993\u001b[0m \u001b[39mself\u001b[39m\u001b[39m.\u001b[39mlastMeasureParser \u001b[39m=\u001b[39m measureParser\n\u001b[0;32m   1995\u001b[0m \u001b[39mif\u001b[39;00m measureParser\u001b[39m.\u001b[39mstaves \u001b[39m>\u001b[39m \u001b[39mself\u001b[39m\u001b[39m.\u001b[39mmaxStaves:\n",
      "File \u001b[1;32m~\\AppData\\Roaming\\Python\\Python311\\site-packages\\music21\\musicxml\\xmlToM21.py:1980\u001b[0m, in \u001b[0;36mPartParser.xmlMeasureToMeasure\u001b[1;34m(self, mxMeasure)\u001b[0m\n\u001b[0;32m   1978\u001b[0m \u001b[39m# noinspection PyBroadException\u001b[39;00m\n\u001b[0;32m   1979\u001b[0m \u001b[39mtry\u001b[39;00m:\n\u001b[1;32m-> 1980\u001b[0m     measureParser\u001b[39m.\u001b[39;49mparse()\n\u001b[0;32m   1981\u001b[0m \u001b[39mexcept\u001b[39;00m MusicXMLImportException \u001b[39mas\u001b[39;00m e:\n\u001b[0;32m   1982\u001b[0m     e\u001b[39m.\u001b[39mmeasureNumber \u001b[39m=\u001b[39m measureParser\u001b[39m.\u001b[39mmeasureNumber\n",
      "File \u001b[1;32m~\\AppData\\Roaming\\Python\\Python311\\site-packages\\music21\\musicxml\\xmlToM21.py:2575\u001b[0m, in \u001b[0;36mMeasureParser.parse\u001b[1;34m(self)\u001b[0m\n\u001b[0;32m   2573\u001b[0m         \u001b[39mif\u001b[39;00m methName \u001b[39mis\u001b[39;00m \u001b[39mnot\u001b[39;00m \u001b[39mNone\u001b[39;00m:\n\u001b[0;32m   2574\u001b[0m             meth \u001b[39m=\u001b[39m \u001b[39mgetattr\u001b[39m(\u001b[39mself\u001b[39m, methName)\n\u001b[1;32m-> 2575\u001b[0m             meth(mxObj)\n\u001b[0;32m   2577\u001b[0m \u001b[39mif\u001b[39;00m \u001b[39mself\u001b[39m\u001b[39m.\u001b[39museVoices \u001b[39mis\u001b[39;00m \u001b[39mTrue\u001b[39;00m:\n\u001b[0;32m   2578\u001b[0m     \u001b[39mfor\u001b[39;00m v \u001b[39min\u001b[39;00m \u001b[39mself\u001b[39m\u001b[39m.\u001b[39mstream\u001b[39m.\u001b[39miter()\u001b[39m.\u001b[39mvoices:\n",
      "File \u001b[1;32m~\\AppData\\Roaming\\Python\\Python311\\site-packages\\music21\\musicxml\\xmlToM21.py:5372\u001b[0m, in \u001b[0;36mMeasureParser.parseAttributesTag\u001b[1;34m(self, mxAttributes)\u001b[0m\n\u001b[0;32m   5370\u001b[0m \u001b[39mif\u001b[39;00m tag \u001b[39min\u001b[39;00m \u001b[39mself\u001b[39m\u001b[39m.\u001b[39mattributeTagsToMethods:\n\u001b[0;32m   5371\u001b[0m     meth \u001b[39m=\u001b[39m \u001b[39mgetattr\u001b[39m(\u001b[39mself\u001b[39m, \u001b[39mself\u001b[39m\u001b[39m.\u001b[39mattributeTagsToMethods[tag])\n\u001b[1;32m-> 5372\u001b[0m     meth(mxSub)\n\u001b[0;32m   5373\u001b[0m \u001b[39m# NOT to be done: directive -- deprecated since v2.\u001b[39;00m\n\u001b[0;32m   5374\u001b[0m \u001b[39melif\u001b[39;00m tag \u001b[39m==\u001b[39m \u001b[39m'\u001b[39m\u001b[39mdivisions\u001b[39m\u001b[39m'\u001b[39m:\n",
      "File \u001b[1;32m~\\AppData\\Roaming\\Python\\Python311\\site-packages\\music21\\musicxml\\xmlToM21.py:5673\u001b[0m, in \u001b[0;36mMeasureParser.handleKeySignature\u001b[1;34m(self, mxKey)\u001b[0m\n\u001b[0;32m   5669\u001b[0m \u001b[39mdef\u001b[39;00m \u001b[39mhandleKeySignature\u001b[39m(\u001b[39mself\u001b[39m, mxKey):\n\u001b[0;32m   5670\u001b[0m \u001b[39m    \u001b[39m\u001b[39m'''\u001b[39;00m\n\u001b[0;32m   5671\u001b[0m \u001b[39m    convert mxKey to a Key or KeySignature and run insertCoreAndRef on it\u001b[39;00m\n\u001b[0;32m   5672\u001b[0m \u001b[39m    '''\u001b[39;00m\n\u001b[1;32m-> 5673\u001b[0m     keySig \u001b[39m=\u001b[39m \u001b[39mself\u001b[39;49m\u001b[39m.\u001b[39;49mxmlToKeySignature(mxKey)\n\u001b[0;32m   5674\u001b[0m     \u001b[39mself\u001b[39m\u001b[39m.\u001b[39minsertCoreAndRef(\u001b[39mself\u001b[39m\u001b[39m.\u001b[39moffsetMeasureNote, mxKey, keySig)\n",
      "File \u001b[1;32m~\\AppData\\Roaming\\Python\\Python311\\site-packages\\music21\\musicxml\\xmlToM21.py:5708\u001b[0m, in \u001b[0;36mMeasureParser.xmlToKeySignature\u001b[1;34m(self, mxKey)\u001b[0m\n\u001b[0;32m   5706\u001b[0m \u001b[39m# TODO: cancel\u001b[39;00m\n\u001b[0;32m   5707\u001b[0m \u001b[39mif\u001b[39;00m mxKey\u001b[39m.\u001b[39mfind(\u001b[39m'\u001b[39m\u001b[39mfifths\u001b[39m\u001b[39m'\u001b[39m) \u001b[39mis\u001b[39;00m \u001b[39mNone\u001b[39;00m:\n\u001b[1;32m-> 5708\u001b[0m     ks \u001b[39m=\u001b[39m \u001b[39mself\u001b[39;49m\u001b[39m.\u001b[39;49mnonTraditionalKeySignature(mxKey)\n\u001b[0;32m   5709\u001b[0m \u001b[39melse\u001b[39;00m:\n\u001b[0;32m   5710\u001b[0m     ks \u001b[39m=\u001b[39m key\u001b[39m.\u001b[39mKeySignature()\n",
      "File \u001b[1;32m~\\AppData\\Roaming\\Python\\Python311\\site-packages\\music21\\musicxml\\xmlToM21.py:5838\u001b[0m, in \u001b[0;36mMeasureParser.nonTraditionalKeySignature\u001b[1;34m(self, mxKey)\u001b[0m\n\u001b[0;32m   5836\u001b[0m     \u001b[39melse\u001b[39;00m:\n\u001b[0;32m   5837\u001b[0m         accidentalName \u001b[39m=\u001b[39m thisAccidental\n\u001b[1;32m-> 5838\u001b[0m     p\u001b[39m.\u001b[39maccidental \u001b[39m=\u001b[39m pitch\u001b[39m.\u001b[39;49mAccidental(accidentalName)\n\u001b[0;32m   5839\u001b[0m     p\u001b[39m.\u001b[39maccidental\u001b[39m.\u001b[39malter \u001b[39m=\u001b[39m thisAlter\n\u001b[0;32m   5840\u001b[0m \u001b[39melse\u001b[39;00m:\n",
      "File \u001b[1;32m~\\AppData\\Roaming\\Python\\Python311\\site-packages\\music21\\pitch.py:906\u001b[0m, in \u001b[0;36mAccidental.__init__\u001b[1;34m(self, specifier)\u001b[0m\n\u001b[0;32m    904\u001b[0m \u001b[39mself\u001b[39m\u001b[39m.\u001b[39m_alter \u001b[39m=\u001b[39m \u001b[39m0.0\u001b[39m     \u001b[39m# semitones to alter step\u001b[39;00m\n\u001b[0;32m    905\u001b[0m \u001b[39m# potentially can be a fraction... but not exponent...\u001b[39;00m\n\u001b[1;32m--> 906\u001b[0m \u001b[39mself\u001b[39;49m\u001b[39m.\u001b[39;49mset(specifier)\n",
      "File \u001b[1;32m~\\AppData\\Roaming\\Python\\Python311\\site-packages\\music21\\pitch.py:1170\u001b[0m, in \u001b[0;36mAccidental.set\u001b[1;34m(self, name, allowNonStandardValue)\u001b[0m\n\u001b[0;32m   1168\u001b[0m \u001b[39melse\u001b[39;00m:\n\u001b[0;32m   1169\u001b[0m     \u001b[39mif\u001b[39;00m \u001b[39mnot\u001b[39;00m allowNonStandardValue:\n\u001b[1;32m-> 1170\u001b[0m         \u001b[39mraise\u001b[39;00m AccidentalException(\u001b[39mf\u001b[39m\u001b[39m'\u001b[39m\u001b[39m{\u001b[39;00mname\u001b[39m}\u001b[39;00m\u001b[39m is not a supported accidental type\u001b[39m\u001b[39m'\u001b[39m)\n\u001b[0;32m   1172\u001b[0m     \u001b[39mif\u001b[39;00m \u001b[39misinstance\u001b[39m(name, \u001b[39mstr\u001b[39m):\n\u001b[0;32m   1173\u001b[0m         \u001b[39mself\u001b[39m\u001b[39m.\u001b[39m_name \u001b[39m=\u001b[39m name\n",
      "\u001b[1;31mAccidentalException\u001b[0m: slash-quarter-sharp is not a supported accidental type"
     ]
    }
   ],
   "source": [
    "folder_path = \"../With Key Signatures/\"\n",
    "\n",
    "for musicfile in os.listdir(folder_path):\n",
    "    print(musicfile)\n",
    "    teslim = find_teslim(musicfile)\n",
    "    print(extract_teslim_info(teslim))"
   ]
  }
 ],
 "metadata": {
  "kernelspec": {
   "display_name": "Python 3",
   "language": "python",
   "name": "python3"
  },
  "language_info": {
   "codemirror_mode": {
    "name": "ipython",
    "version": 3
   },
   "file_extension": ".py",
   "mimetype": "text/x-python",
   "name": "python",
   "nbconvert_exporter": "python",
   "pygments_lexer": "ipython3",
   "version": "3.11.1"
  },
  "orig_nbformat": 4
 },
 "nbformat": 4,
 "nbformat_minor": 2
}
