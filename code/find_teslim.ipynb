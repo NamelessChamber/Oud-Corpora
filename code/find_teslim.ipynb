{
 "cells": [
  {
   "cell_type": "code",
   "execution_count": 2,
   "metadata": {},
   "outputs": [],
   "source": [
    "from music21 import *\n",
    "import os\n",
    "\n",
    "class OttomanMusicXMLImporter(musicxml.xmlToM21.MusicXMLImporter):\n",
    "    \"\"\"\n",
    "    subclass MusicXMLImporter to allow importing non-stand\n",
    "    \"\"\"\n",
    "    def xmlPartToPart(self, mxPart, mxScorePart):\n",
    "        '''\n",
    "        Given a <part> object and the <score-part> object, parse a complete part.\n",
    "        '''\n",
    "        parser = PartParser(mxPart, mxScorePart=mxScorePart, parent=self)\n",
    "        parser.parse()\n",
    "        if parser.appendToScoreAfterParse is True:\n",
    "            return parser.stream\n",
    "        else:\n",
    "            return None"
   ]
  },
  {
   "cell_type": "code",
   "execution_count": 42,
   "metadata": {},
   "outputs": [],
   "source": [
    "\"\"\"\n",
    "Parse the Teslim and extract information relevant to inferring the makam.\n",
    "- input: path to the musicxml for a sarki\n",
    "- return: a dictionary of the following format:\n",
    "    {\n",
    "    \"start_note\": first note of the Teslim (music21 Note object),\n",
    "    \"end_note\": last note of the Teslim (music21 Note),\n",
    "    \"range\": (lowest note in the Teslim, highest note of the Teslim) (pair of music21 Notes),\n",
    "    \"accidentals\": list of notes with accidentals in the order that they appear in the Teslim (list of music21 Notes)\n",
    "    }\n",
    "\"\"\"\n",
    "folder_path = \"../With Key Signatures/\"\n",
    "\n",
    "class DoesNotHaveTeslim(Exception):\n",
    "    def __init__(self):\n",
    "        self.message = \"There does not exist a Teslim in this piece. \"\n",
    "        super().__init__(self.message)\n",
    "\n",
    "def find_teslim(filename):\n",
    "    MI = musicxml.xmlToM21.MusicXMLImporter()\n",
    "    score = MI.scoreFromFile(folder_path+filename)\n",
    "    start_measure_num = None\n",
    "    end_measure_num = None\n",
    "\n",
    "    for element in score.recurse().getElementsByClass(expressions.TextExpression):\n",
    "        if element.content.lower() == 'teslim':\n",
    "            start_measure_num =  element.getContextByClass('Measure').number\n",
    "        if element.content.lower() == 'hane 2':\n",
    "            end_measure_num = element.getContextByClass('Measure').number - 1\n",
    "            break\n",
    "\n",
    "    teslim = stream.Score()\n",
    "\n",
    "    if start_measure_num is None:\n",
    "        raise DoesNotHaveTeslim\n",
    "    \n",
    "    # Iterate through the measures in the original score and add them to the new score\n",
    "    for measure in score.measures(start_measure_num, end_measure_num):\n",
    "        teslim.insert(measure.offset, measure)\n",
    "\n",
    "    return teslim"
   ]
  },
  {
   "cell_type": "code",
   "execution_count": 43,
   "metadata": {},
   "outputs": [],
   "source": [
    "def extract_teslim_info(teslim):\n",
    "    first_measure = teslim.parts[0].getElementsByClass('Measure')[0]\n",
    "    start_note = first_measure.getElementsByClass('Note')[0]\n",
    "\n",
    "    last_measure = teslim.parts[0].getElementsByClass('Measure')[-1]\n",
    "    end_note = last_measure.getElementsByClass('Note')[-1]\n",
    "    \n",
    "    all_notes = teslim.parts[0].recurse().notes\n",
    "    lowest_note = min(all_notes, key=lambda x: x.pitch)\n",
    "    highest_note = max(all_notes, key=lambda x: x.pitch)\n",
    "    \n",
    "    accidentals = [note for note in all_notes if note.pitch.accidental is not None]\n",
    "    \n",
    "    result = {\n",
    "        \"start_note\": start_note,\n",
    "        \"end_note\": end_note,\n",
    "        \"range\": (lowest_note, highest_note),\n",
    "        \"accidentals\": accidentals\n",
    "    }\n",
    "    return result"
   ]
  },
  {
   "cell_type": "code",
   "execution_count": 44,
   "metadata": {},
   "outputs": [
    {
     "ename": "DoesNotHaveTeslim",
     "evalue": "There does not exist a Teslim in this piece. ",
     "output_type": "error",
     "traceback": [
      "\u001b[1;31m---------------------------------------------------------------------------\u001b[0m",
      "\u001b[1;31mDoesNotHaveTeslim\u001b[0m                         Traceback (most recent call last)",
      "Cell \u001b[1;32mIn[44], line 3\u001b[0m\n\u001b[0;32m      1\u001b[0m \u001b[39m# for testing purposes\u001b[39;00m\n\u001b[0;32m      2\u001b[0m test \u001b[39m=\u001b[39m \u001b[39m\"\u001b[39m\u001b[39mCT253.musicxml\u001b[39m\u001b[39m\"\u001b[39m\n\u001b[1;32m----> 3\u001b[0m found \u001b[39m=\u001b[39m find_teslim(test)\n\u001b[0;32m      4\u001b[0m found\u001b[39m.\u001b[39mshow()\n\u001b[0;32m      5\u001b[0m extract_teslim_info(found)\n",
      "Cell \u001b[1;32mIn[42], line 35\u001b[0m, in \u001b[0;36mfind_teslim\u001b[1;34m(filename)\u001b[0m\n\u001b[0;32m     32\u001b[0m teslim \u001b[39m=\u001b[39m stream\u001b[39m.\u001b[39mScore()\n\u001b[0;32m     34\u001b[0m \u001b[39mif\u001b[39;00m start_measure_num \u001b[39mis\u001b[39;00m \u001b[39mNone\u001b[39;00m:\n\u001b[1;32m---> 35\u001b[0m     \u001b[39mraise\u001b[39;00m DoesNotHaveTeslim\n\u001b[0;32m     37\u001b[0m \u001b[39m# Iterate through the measures in the original score and add them to the new score\u001b[39;00m\n\u001b[0;32m     38\u001b[0m \u001b[39mfor\u001b[39;00m measure \u001b[39min\u001b[39;00m score\u001b[39m.\u001b[39mmeasures(start_measure_num, end_measure_num):\n",
      "\u001b[1;31mDoesNotHaveTeslim\u001b[0m: There does not exist a Teslim in this piece. "
     ]
    }
   ],
   "source": [
    "# for testing purposes\n",
    "test = \"CT253.musicxml\"\n",
    "found = find_teslim(test)\n",
    "found.show()\n",
    "extract_teslim_info(found)"
   ]
  },
  {
   "cell_type": "code",
   "execution_count": null,
   "metadata": {},
   "outputs": [
    {
     "name": "stderr",
     "output_type": "stream",
     "text": [
      "C:\\Users\\annab\\AppData\\Roaming\\Python\\Python311\\site-packages\\music21\\musicxml\\xmlToM21.py:1986: MusicXMLWarning: The following exception took place in m. 1 in part None.\n",
      "  warnings.warn(\n",
      "C:\\Users\\annab\\AppData\\Roaming\\Python\\Python311\\site-packages\\music21\\musicxml\\xmlToM21.py:1986: MusicXMLWarning: The following exception took place in m. 1 in part Voice.\n",
      "  warnings.warn(\n"
     ]
    },
    {
     "name": "stdout",
     "output_type": "stream",
     "text": [
      "CT 16-17 Mü’min Ağa’nın Nikrîz Peşrevi [Çenber].musicxml\n",
      "slash-flat is not a supported accidental type\n",
      "CT 18 Nikrîz Sâz Semâ’î. Toros Ağa.musicxml\n",
      "slash-flat is not a supported accidental type\n",
      "CT 228-229 Sabâ‐Zemzeme Peşrevi. Neyî Râşid Efendi [Devr‐i Kebir].musicxml\n",
      "slash-flat is not a supported accidental type\n",
      "CT 23-24 Yusuf Paşa’nın Neveser Sâz Semâ’îsi.musicxml\n",
      "slash-flat is not a supported accidental type\n",
      "CT 230 Sabâ‐Zemzeme Sâz Semâ’îsi.musicxml\n",
      "slash-flat is not a supported accidental type\n",
      "CT 241 Şevk‐i Tarab Sâz Semâ’îsi. Kânûnî Mehmed Bey.musicxml\n",
      "slash-flat is not a supported accidental type\n",
      "CT 256-257 Vech‐i ‘Arazbâr Sâz Semâ’îsi. İsak’ın.musicxml\n",
      "There does not exist a Teslim in this piece. \n",
      "CT 266 Hüzzâm Sâz Semâ’îsi. Yusuf Paşa’nın.musicxml\n",
      "slash-flat is not a supported accidental type\n"
     ]
    },
    {
     "name": "stderr",
     "output_type": "stream",
     "text": [
      "C:\\Users\\annab\\AppData\\Roaming\\Python\\Python311\\site-packages\\music21\\musicxml\\xmlToM21.py:1986: MusicXMLWarning: The following exception took place in m. 1 in part Piano.\n",
      "  warnings.warn(\n"
     ]
    },
    {
     "name": "stdout",
     "output_type": "stream",
     "text": [
      "CT 278-280 Bestenigâr Peşrevi. Nu’mân Ağa’nın [Devr‐i Kebir].musicxml\n",
      "slash-flat is not a supported accidental type\n",
      "CT 281 Bestenigâr Sâz Semâ’îsi. Dede Efendi .musicxml\n",
      "slash-flat is not a supported accidental type\n",
      "CT 312-314 ‘Hicâz 'Aşîrân Peşrevi. İsmâ’îl Ağa’nın [Fahte].musicxml\n",
      "slash-flat is not a supported accidental type\n",
      "CT 315 Hicâz ‘Aşîrân Sâz Semâ’îsi. İsma’îl Ağa’nın.musicxml\n",
      "slash-flat is not a supported accidental type\n",
      "CT 322-323 Şevk ü Tarab Peşrevi. ‘Abdü’l‐kâdir Bey [Devr‐i Kebir].musicxml\n",
      "slash-flat is not a supported accidental type\n",
      "CT 324-325 Şevk ü Tarab Sâz Semâ’îsi.musicxml\n",
      "slash-flat is not a supported accidental type\n",
      "CT 326 -328 Şevk Efzâ Peşrevi. Nu’mân Ağa’nın [Nîm Sekîl].musicxml\n",
      "slash-flat is not a supported accidental type\n",
      "CT 329-330 Şevk Efzâ Sâz Semâ’îsi. İbrahîm Vefâ Efendi Ferâ’izcizâde [Aksak Semâ’î].musicxml\n",
      "slash-flat is not a supported accidental type\n",
      "CT 38 Kemençeci Nikolaki'nin Mâhur Sâz Semâ'îsi.musicxml\n",
      "slash-quarter-sharp is not a supported accidental type\n",
      "CT 50 Hicâzkâr Sâz Semâ'îsi. Edhem Efendi.musicxml\n",
      "slash-flat is not a supported accidental type\n",
      "CT 60-62 'Osmân Bey'in Sabâ Peşrevi [Devr-i Kebir] .musicxml\n",
      "slash-flat is not a supported accidental type\n",
      "CT 63 Sabâ Sâz Semâ’îsi Edhem Efendi’nin.musicxml\n",
      "slash-flat is not a supported accidental type\n"
     ]
    },
    {
     "name": "stderr",
     "output_type": "stream",
     "text": [
      "C:\\Users\\annab\\AppData\\Roaming\\Python\\Python311\\site-packages\\music21\\musicxml\\xmlToM21.py:1986: MusicXMLWarning: The following exception took place in m. 1 in part .\n",
      "  warnings.warn(\n"
     ]
    },
    {
     "name": "stdout",
     "output_type": "stream",
     "text": [
      "CT 72 -74 Karcığar Peşrevi Tatyos Efendi.musicxml\n",
      "slash-flat is not a supported accidental type\n",
      "CT 72 -75 Karcığar Peşrevi Tatyos Efendi.musicxml\n",
      "slash-flat is not a supported accidental type\n",
      "CT 75 Usta Nikolaki’nin Karcığar Sâz Semâ’îsi.musicxml\n",
      "slash-flat is not a supported accidental type\n",
      "CT 76-80 İsak’ın İsfahân Peşrevi [Darb‐ı Fetih].musicxml\n",
      "There does not exist a Teslim in this piece. \n",
      "CT 86-87 Nâbî ‘Azîz Dede’nin Hicâz Peşrevi [Devr‐i Kebir].musicxml\n",
      "slash-flat is not a supported accidental type\n",
      "CT 88 Yusuf Paşa’nın Hicâz Sâz Semâ’îsi.musicxml\n",
      "slash-flat is not a supported accidental type\n",
      "CT11.musicxml\n",
      "slash-quarter-sharp is not a supported accidental type\n",
      "CT253.musicxml\n",
      "There does not exist a Teslim in this piece. \n",
      "CT‐241 Şevk‐i Tarab Sâz Semâ’îsi. Kânûnî Mehmed Bey.musicxml\n",
      "slash-flat is not a supported accidental type\n"
     ]
    }
   ],
   "source": [
    "folder_path = \"../With Key Signatures/\"\n",
    "\n",
    "for musicfile in os.listdir(folder_path):\n",
    "    try:\n",
    "        teslim = find_teslim(musicfile)\n",
    "    except Exception as e:\n",
    "        print(musicfile)\n",
    "        print(e)\n",
    "\n",
    "\n",
    "    "
   ]
  },
  {
   "cell_type": "code",
   "execution_count": 48,
   "metadata": {},
   "outputs": [
    {
     "data": {
      "text/plain": [
       "['double-flat',\n",
       " 'double-sharp',\n",
       " 'flat',\n",
       " 'half-flat',\n",
       " 'half-sharp',\n",
       " 'natural',\n",
       " 'one-and-a-half-flat',\n",
       " 'one-and-a-half-sharp',\n",
       " 'quadruple-flat',\n",
       " 'quadruple-sharp',\n",
       " 'sharp',\n",
       " 'triple-flat',\n",
       " 'triple-sharp']"
      ]
     },
     "execution_count": 48,
     "metadata": {},
     "output_type": "execute_result"
    }
   ],
   "source": [
    "\"\"\"\n",
    "Accidental Error: slash-flat is not a supported accidental type\n",
    "--> induced by music21 internal setting. Below is a list of acceptable names in music21 Score object. \n",
    "\n",
    "TO-DO: find alternative representation of slash-flat \n",
    "\"\"\"\n",
    "\n",
    "pitch.Accidental.listNames()\n"
   ]
  }
 ],
 "metadata": {
  "kernelspec": {
   "display_name": "Python 3 (ipykernel)",
   "language": "python",
   "name": "python3"
  },
  "language_info": {
   "codemirror_mode": {
    "name": "ipython",
    "version": 3
   },
   "file_extension": ".py",
   "mimetype": "text/x-python",
   "name": "python",
   "nbconvert_exporter": "python",
   "pygments_lexer": "ipython3",
   "version": "3.11.2"
  }
 },
 "nbformat": 4,
 "nbformat_minor": 2
}
