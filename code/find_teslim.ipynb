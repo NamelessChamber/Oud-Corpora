{
 "cells": [
  {
   "cell_type": "code",
   "execution_count": 1,
   "metadata": {},
   "outputs": [],
   "source": [
    "from music21 import *"
   ]
  },
  {
   "cell_type": "code",
   "execution_count": 4,
   "metadata": {},
   "outputs": [
    {
     "name": "stdout",
     "output_type": "stream",
     "text": [
      "<music21.stream.Score 0x1c0bdd87990>\n"
     ]
    },
    {
     "data": {
      "text/plain": [
       "<music21.stream.Score 0x1c0bdd87990>"
      ]
     },
     "execution_count": 4,
     "metadata": {},
     "output_type": "execute_result"
    }
   ],
   "source": [
    "\"\"\"\n",
    "Parse the Teslim and extract information relevant to inferring the makam.\n",
    "- input: path to the musicxml for a sarki\n",
    "- return: a dictionary of the following format:\n",
    "    {\n",
    "    \"start_note\": first note of the Teslim (music21 Note object),\n",
    "    \"end_note\": last note of the Teslim (music21 Note),\n",
    "    \"range\": (lowest note in the Teslim, highest note of the Teslim) (pair of music21 Notes),\n",
    "    \"accidentals\": list of notes with accidentals in the order that they appear in the Teslim (list of music21 Notes)\n",
    "    }\n",
    "\"\"\"\n",
    "filename = \"../With Key Signatures/CT1.musicxml\"\n",
    "\n",
    "def teslim_finder(filename):\n",
    "    MI = musicxml.xmlToM21.MusicXMLImporter()\n",
    "    score = MI.scoreFromFile(filename)\n",
    "    start_measure_num = None\n",
    "    end_measure_num = None\n",
    "\n",
    "    for element in score.recurse().getElementsByClass(expressions.TextExpression):\n",
    "        if element.content.lower() == 'teslim':\n",
    "            start_measure_num =  element.getContextByClass('Measure').number\n",
    "        if element.content.lower() == 'hane 2':\n",
    "            end_measure_num = element.getContextByClass('Measure').number - 1\n",
    "            break\n",
    "\n",
    "    teslim = stream.Score()\n",
    "\n",
    "    # Iterate through the measures in the original score and add them to the new score\n",
    "    for measure in score.measures(start_measure_num, end_measure_num):\n",
    "        teslim.insert(measure.offset, measure)\n",
    "\n",
    "    return teslim\n",
    "\n",
    "teslim_finder(filename)"
   ]
  }
 ],
 "metadata": {
  "kernelspec": {
   "display_name": "Python 3",
   "language": "python",
   "name": "python3"
  },
  "language_info": {
   "codemirror_mode": {
    "name": "ipython",
    "version": 3
   },
   "file_extension": ".py",
   "mimetype": "text/x-python",
   "name": "python",
   "nbconvert_exporter": "python",
   "pygments_lexer": "ipython3",
   "version": "3.11.1"
  },
  "orig_nbformat": 4
 },
 "nbformat": 4,
 "nbformat_minor": 2
}
